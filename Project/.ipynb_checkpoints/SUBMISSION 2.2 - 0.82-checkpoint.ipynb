{
 "cells": [
  {
   "cell_type": "code",
   "execution_count": null,
   "metadata": {},
   "outputs": [],
   "source": [
    "#Libraries\n",
    "require(data.table, quietly = TRUE)\n",
    "require(glue, quietly = TRUE)\n",
    "require(ggplot2, quietly = TRUE)\n",
    "require(scatterplot3d, quietly = TRUE)\n",
    "require(gridExtra, quietly = TRUE)\n",
    "require(tidyr, quietly = TRUE)\n",
    "require(tseries, quietly = TRUE)\n",
    "library(pROC, quietly = TRUE)\n",
    "library(caret, quietly = TRUE)\n",
    "library(rpart, quietly = TRUE)\n",
    "library(rpart.plot, quietly = TRUE)\n",
    "library(e1071, quietly = TRUE)"
   ]
  },
  {
   "cell_type": "code",
   "execution_count": null,
   "metadata": {},
   "outputs": [],
   "source": [
    "trainpath <- \"Data/IE582_Fall20_ProjectTrain.csv\"\n",
    "traindata <- read.csv(trainpath)\n",
    "\n",
    "submitdatapath <- \"Data/IE582_Fall20_ProjectTest.csv\"\n",
    "submitdata <- read.csv(submitdatapath)\n",
    "\n",
    "submitdata <- submitdata[,-61] # Empty y column of the submission data set"
   ]
  },
  {
   "cell_type": "code",
   "execution_count": null,
   "metadata": {},
   "outputs": [],
   "source": [
    "factor2 <- c()\n",
    "for(i in 1:60)\n",
    "{\n",
    "  if(nlevels(as.factor(traindata[,i]))==2)\n",
    "  {\n",
    "    factor2 <- c(factor2,i)\n",
    "  }\n",
    "}"
   ]
  },
  {
   "cell_type": "code",
   "execution_count": null,
   "metadata": {},
   "outputs": [],
   "source": [
    "sapply(traindata[,factor2],table)"
   ]
  },
  {
   "cell_type": "code",
   "execution_count": null,
   "metadata": {},
   "outputs": [],
   "source": [
    "cdeneme <- c()\n",
    "for(i in 1:nrow(train3))\n",
    "{\n",
    "  if(train3[i,2]<100)\n",
    "  {\n",
    "    cdeneme <- c(cdeneme, i)\n",
    "  }\n",
    "}"
   ]
  },
  {
   "cell_type": "code",
   "execution_count": null,
   "metadata": {},
   "outputs": [],
   "source": [
    "train5 = traindata[,-cdeneme]"
   ]
  },
  {
   "cell_type": "code",
   "execution_count": null,
   "metadata": {},
   "outputs": [],
   "source": [
    "set.seed(1)\n",
    "trainIndex = createDataPartition(train5$y, p = 0.7, list = FALSE)\n",
    "traindata07 = train5[trainIndex, ]\n",
    "traindata03 = train5[-trainIndex, ]"
   ]
  },
  {
   "cell_type": "code",
   "execution_count": null,
   "metadata": {},
   "outputs": [],
   "source": [
    "fitControl <- trainControl(method = \"repeatedcv\", number = 10, verboseIter = TRUE, classProbs = TRUE, repeats = 5)\n",
    "tunegrid <- expand.grid(.mtry=c(3,5,10,15), .splitrule = \"gini\", .min.node.size = c(3,5,10,15))"
   ]
  }
 ],
 "metadata": {
  "kernelspec": {
   "display_name": "R",
   "language": "R",
   "name": "ir"
  }
 },
 "nbformat": 4,
 "nbformat_minor": 4
}
